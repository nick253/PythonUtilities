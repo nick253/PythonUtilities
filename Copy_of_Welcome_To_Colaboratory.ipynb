{
  "nbformat": 4,
  "nbformat_minor": 0,
  "metadata": {
    "colab": {
      "name": "Copy of Welcome To Colaboratory",
      "provenance": [],
      "collapsed_sections": [],
      "toc_visible": true,
      "include_colab_link": true
    },
    "kernelspec": {
      "display_name": "Python 3",
      "name": "python3"
    }
  },
  "cells": [
    {
      "cell_type": "markdown",
      "metadata": {
        "id": "view-in-github",
        "colab_type": "text"
      },
      "source": [
        "<a href=\"https://colab.research.google.com/github/nick253/PythonUtilities/blob/master/Copy_of_Welcome_To_Colaboratory.ipynb\" target=\"_parent\"><img src=\"https://colab.research.google.com/assets/colab-badge.svg\" alt=\"Open In Colab\"/></a>"
      ]
    },
    {
      "cell_type": "code",
      "metadata": {
        "id": "dbTMUVFicZ2H",
        "colab_type": "code",
        "colab": {}
      },
      "source": [
        "## To start Python ML-Agents Training\n",
        "## Run conda activate ml-agents from the ml-agents directory with anaconda shell\n",
        "#1 conda activate ml-agents\n",
        "## To start the training run the below command. Make sure the Control Checkbox is checked\n",
        "#2 mlagents-learn config/trainer_config.yaml --run-id=firstRun --train"
      ],
      "execution_count": 0,
      "outputs": []
    },
    {
      "cell_type": "code",
      "metadata": {
        "id": "xz67c32MaHJf",
        "colab_type": "code",
        "outputId": "39e65f47-ead7-4a2c-dcdb-803268215cad",
        "colab": {
          "base_uri": "https://localhost:8080/",
          "height": 817
        }
      },
      "source": [
        "def add(a, b):\n",
        "  return a * b\n",
        "\n",
        "print(add(6, 2))\n",
        "\n",
        "## This is how you create and append to a list\n",
        "mylist = []\n",
        "mylist.append(1)\n",
        "mylist.append(2)\n",
        "mylist.append(7)\n",
        "print(mylist[0]) # prints 1\n",
        "print(mylist[1]) # prints 2\n",
        "print(mylist[2]) # prints 3\n",
        "\n",
        "# prints out 1,2,3 using a loop\n",
        "for x in mylist:\n",
        "    print(x)\n",
        "\n",
        "## Math Squared and Cubed\n",
        "squared = 7 ** 2\n",
        "cubed = 2 ** 3\n",
        "print(squared)\n",
        "print(cubed)\n",
        "\n",
        "## Python also supports multiplying strings to form a string with a repeating sequence:\n",
        "lotsofhellos = \"hello\" * 10\n",
        "print(lotsofhellos)\n",
        "\n",
        "## You can even add lists together\n",
        "even_numbers = [2,4,6,8]\n",
        "odd_numbers = [1,3,5,7]\n",
        "all_numbers = odd_numbers + even_numbers\n",
        "print(all_numbers)\n",
        "\n",
        "## This works too\n",
        "print([1,2,3] * 3)\n",
        "\n",
        "## This is how to use string variables\n",
        "data = (\"John\", \"Doe\", 53.44)\n",
        "format_string = \"Hello %s %s. Your current balance is $%s.\"\n",
        "\n",
        "print(format_string % data)\n",
        "\n",
        "## Counts how many 'l's are in the string\n",
        "astring = \"Hello world!\"\n",
        "print(astring.count(\"l\"))\n",
        "\n",
        "## Prints a section of a string\n",
        "astring = \"Hello world!\"\n",
        "print(astring.count(\"l\"))\n",
        "\n",
        "## toUpper toLower\n",
        "astring = \"Hello world!\"\n",
        "print(astring.upper())\n",
        "print(astring.lower())\n",
        "\n",
        "## This is how to use the 'in' operator\n",
        "name = \"John\"\n",
        "if name in [\"John\", \"Rick\"]:\n",
        "    print(\"Your name is either John or Rick.\")\n",
        "age = 23\n",
        "if name == \"John\" and age == 23:\n",
        "    print(\"Your name is John, and you are also 23 years old.\")\n",
        "\n",
        "## the NOT operator\n",
        "print(not False) # Prints out True\n",
        "print((not False) == (False)) # Prints out False\n",
        "\n",
        "## For Loops\n",
        "primes = [2, 3, 5, 7]\n",
        "for prime in primes:\n",
        "    print(prime)\n",
        "    \n",
        "\n",
        "## While Loop with breaks and continues\n",
        "# Prints out 0,1,2,3,4\n",
        "    count = 0\n",
        "while True:\n",
        "    print(count)\n",
        "    count += 1\n",
        "    if count >= 5:\n",
        "        break\n",
        "\n",
        "# Prints out only odd numbers - 1,3,5,7,9\n",
        "for x in range(10):\n",
        "    # Check if x is even\n",
        "    if x % 2 == 0:\n",
        "        continue\n",
        "    print(x)\n",
        "    \n",
        "    \n",
        "## Example of a loop with an else statement\n",
        "# Prints out 0,1,2,3,4 and then it prints \"count value reached 5\"\n",
        "count=0\n",
        "while(count<5):\n",
        "    print(count)\n",
        "    count +=1\n",
        "else:\n",
        "    print(\"count value reached %d\" %(count))\n",
        "\n",
        "# Prints out 1,2,3,4\n",
        "for i in range(1, 10):\n",
        "    if(i%5==0):\n",
        "        break\n",
        "    print(i)\n",
        "else:\n",
        "    print(\"this is not printed because for loop is terminated because of break but not due to fail in condition\")\n",
        "    \n",
        "    \n",
        "## Functions\n",
        "def sum_two_numbers(a, b):\n",
        "    return a + b\n",
        "\n",
        "print(sum_two_numbers(10, 37))\n",
        "\n",
        "## Variable Types\n",
        "\n",
        "myInt = 7\n",
        "print(myInt)\n",
        "\n",
        "myfloat = 7.0\n",
        "print(myfloat)\n",
        "\n",
        "myfloat = float(7)\n",
        "print(myfloat)\n",
        "\n",
        "## Two types of Numbers Integers and Floats\n",
        "\n",
        "mystring = 'hello'\n",
        "print(mystring)\n",
        "\n",
        "mystring2 = \"hello don't jump\"\n",
        "print(mystring2)\n",
        "\n",
        "\n",
        "## This is how you concatonate strings. All you need is to add them + as seen below\n",
        "String3 = mystring + ' ' + mystring2\n",
        "print(String3)\n",
        "\n",
        "## Assignments can be done on more than one variable \"simultaneously\" on the same line like this\n",
        "a, b = 3, 4\n",
        "print(a,b)"
      ],
      "execution_count": 0,
      "outputs": [
        {
          "output_type": "stream",
          "text": [
            "12\n",
            "1\n",
            "2\n",
            "7\n",
            "1\n",
            "2\n",
            "7\n",
            "49\n",
            "8\n",
            "hellohellohellohellohellohellohellohellohellohello\n",
            "[1, 3, 5, 7, 2, 4, 6, 8]\n",
            "[1, 2, 3, 1, 2, 3, 1, 2, 3]\n",
            "Hello John Doe. Your current balance is $53.44.\n",
            "3\n",
            "3\n",
            "HELLO WORLD!\n",
            "hello world!\n",
            "Your name is either John or Rick.\n",
            "Your name is John, and you are also 23 years old.\n",
            "True\n",
            "False\n",
            "2\n",
            "3\n",
            "5\n",
            "7\n",
            "0\n",
            "1\n",
            "2\n",
            "3\n",
            "4\n",
            "1\n",
            "3\n",
            "5\n",
            "7\n",
            "9\n",
            "0\n",
            "1\n",
            "2\n",
            "3\n",
            "4\n",
            "count value reached 5\n",
            "1\n",
            "2\n",
            "3\n",
            "4\n",
            "47\n"
          ],
          "name": "stdout"
        }
      ]
    },
    {
      "cell_type": "code",
      "metadata": {
        "colab_type": "code",
        "id": "gJr_9dXGpJ05",
        "outputId": "43816b8e-b671-4320-b274-ce311b1eec4e",
        "colab": {
          "base_uri": "https://localhost:8080/",
          "height": 34
        }
      },
      "source": [
        "seconds_in_a_day = 24 * 60 * 60\n",
        "seconds_in_a_day"
      ],
      "execution_count": 0,
      "outputs": [
        {
          "output_type": "execute_result",
          "data": {
            "text/plain": [
              "86400"
            ]
          },
          "metadata": {
            "tags": []
          },
          "execution_count": 2
        }
      ]
    },
    {
      "cell_type": "markdown",
      "metadata": {
        "colab_type": "text",
        "id": "2fhs6GZ4qFMx"
      },
      "source": [
        "To execute the code in the above cell, select it with a click and then either press the play button to the left of the code, or use the keyboard shortcut \"Command/Ctrl+Enter\".\n",
        "\n",
        "All cells modify the same global state, so variables that you define by executing a cell can be used in other cells:"
      ]
    },
    {
      "cell_type": "code",
      "metadata": {
        "colab_type": "code",
        "id": "-gE-Ez1qtyIA",
        "outputId": "8d2e4259-4682-4e19-b683-7b9087f28820",
        "colab": {
          "height": 35
        }
      },
      "source": [
        "seconds_in_a_week = 7 * seconds_in_a_day\n",
        "seconds_in_a_week"
      ],
      "execution_count": 0,
      "outputs": [
        {
          "output_type": "execute_result",
          "data": {
            "text/plain": [
              "604800"
            ]
          },
          "metadata": {
            "tags": []
          },
          "execution_count": 0
        }
      ]
    },
    {
      "cell_type": "markdown",
      "metadata": {
        "colab_type": "text",
        "id": "P-H6Lw1vyNNd"
      },
      "source": [
        "## Machine Learning Examples: Seedbank\n",
        "\n",
        "To see end-to-end examples of the interactive machine learning analyses that Colaboratory makes possible, check out the [Seedbank](https://research.google.com/seedbank/) project.\n",
        "\n",
        "A few featured examples:\n",
        "\n",
        "- [Neural Style Transfer](https://research.google.com/seedbank/seed/neural_style_transfer_with_tfkeras): Use deep learning to transfer style between images.\n",
        "- [EZ NSynth](https://research.google.com/seedbank/seed/ez_nsynth): Synthesize audio with WaveNet auto-encoders.\n",
        "- [Fashion MNIST with Keras and TPUs](https://research.google.com/seedbank/seed/fashion_mnist_with_keras_and_tpus): Classify fashion-related images with deep learning.\n",
        "- [DeepDream](https://research.google.com/seedbank/seed/deepdream): Produce DeepDream images from your own photos.\n",
        "- [Convolutional VAE](https://research.google.com/seedbank/seed/convolutional_vae): Create a generative model of handwritten digits."
      ]
    }
  ]
}